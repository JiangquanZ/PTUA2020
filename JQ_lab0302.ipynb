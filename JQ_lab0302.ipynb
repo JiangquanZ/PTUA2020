{
 "cells": [
  {
   "cell_type": "code",
   "execution_count": 44,
   "metadata": {},
   "outputs": [],
   "source": [
    "# lab0302\n",
    "import random\n",
    "import numpy as np\n",
    "import math\n",
    "import matplotlib.pyplot as plt"
   ]
  },
  {
   "cell_type": "code",
   "execution_count": 7,
   "metadata": {},
   "outputs": [
    {
     "data": {
      "text/plain": [
       "3.141592653589793"
      ]
     },
     "execution_count": 7,
     "metadata": {},
     "output_type": "execute_result"
    }
   ],
   "source": [
    "pi = math.pi"
   ]
  },
  {
   "cell_type": "code",
   "execution_count": 13,
   "metadata": {},
   "outputs": [
    {
     "name": "stdout",
     "output_type": "stream",
     "text": [
      "3.1364\n"
     ]
    }
   ],
   "source": [
    "pi"
   ]
  },
  {
   "cell_type": "code",
   "execution_count": 47,
   "metadata": {},
   "outputs": [
    {
     "name": "stdout",
     "output_type": "stream",
     "text": [
      "[3.1578947368421053, 3.130434782608696, 3.1666666666666665, 3.135135135135135, 3.1219512195121952, 3.111111111111111, 3.1181102362204722, 3.125, 3.131782945736434, 3.114503816793893]\n",
      "0.01721777294360164\n",
      "3.131259065062671\n"
     ]
    }
   ],
   "source": [
    "n = 0 \n",
    "d = 0\n",
    "count = 10 # numbers of runs\n",
    "precision = 0.01\n",
    "list = []\n",
    "simulating = True\n",
    "while simulating:\n",
    "    x = random.random()\n",
    "    y = random.random()\n",
    "    if x**2 + y**2 <= 1:\n",
    "        n += 1\n",
    "    d += 1\n",
    "    ratio = 4 * n / d\n",
    "    if abs(ratio-pi)/pi <= precision:       \n",
    "        count -= 1\n",
    "        list.append(ratio)        \n",
    "    if count == 0:\n",
    "        print(list)\n",
    "        mean = np.mean(list)\n",
    "        sd = np.std(list)\n",
    "        print(sd)\n",
    "        print(mean)\n",
    "        break\n"
   ]
  },
  {
   "cell_type": "code",
   "execution_count": 49,
   "metadata": {},
   "outputs": [
    {
     "name": "stdout",
     "output_type": "stream",
     "text": [
      "[3.142857142857143, 3.144278606965174, 3.142857142857143, 3.143706640237859, 3.1405940594059407, 3.1391905231984207, 3.1400394477317555, 3.140886699507389, 3.141732283464567, 3.1386430678466075]\n",
      "0.001820680476073021\n",
      "3.1414785614072\n"
     ]
    }
   ],
   "source": [
    "n = 0\n",
    "d = 0\n",
    "count = 10\n",
    "precision = 0.001\n",
    "list = []\n",
    "simulating = True\n",
    "while simulating:\n",
    "    x = random.random()\n",
    "    y = random.random()\n",
    "    if x**2 + y**2 <= 1:\n",
    "        n += 1\n",
    "    d += 1\n",
    "    ratio = 4 * n / d\n",
    "    if abs(ratio-pi)/pi <= precision:       \n",
    "        count -= 1\n",
    "        list.append(ratio)        \n",
    "    if count == 0:\n",
    "        print(list)\n",
    "        mean = np.mean(list)\n",
    "        sd = np.std(list)\n",
    "        print(sd)\n",
    "        print(mean)\n",
    "        break"
   ]
  },
  {
   "cell_type": "code",
   "execution_count": 50,
   "metadata": {},
   "outputs": [
    {
     "name": "stdout",
     "output_type": "stream",
     "text": [
      "[3.1417624521072796, 3.1418181818181816, 3.141868512110727, 3.1414634146341465, 3.1417910447761193, 3.1417004048582995, 3.141302439880639, 3.1414531414531415, 3.1416037901386207, 3.141754385964912]\n",
      "0.0001784595349173497\n",
      "3.1416517767742067\n"
     ]
    }
   ],
   "source": [
    "n = 0\n",
    "d = 0\n",
    "count = 10\n",
    "precision = 0.0001\n",
    "list = []\n",
    "simulating = True\n",
    "while simulating:\n",
    "    x = random.random()\n",
    "    y = random.random()\n",
    "    if x**2 + y**2 <= 1:\n",
    "        n += 1\n",
    "    d += 1\n",
    "    ratio = 4 * n / d\n",
    "    if abs(ratio-pi)/pi <= precision:       \n",
    "        count -= 1\n",
    "        list.append(ratio)        \n",
    "    if count == 0:\n",
    "        print(list)\n",
    "        mean = np.mean(list)\n",
    "        sd = np.std(list)\n",
    "        print(sd)\n",
    "        print(mean)\n",
    "        break"
   ]
  },
  {
   "cell_type": "code",
   "execution_count": 51,
   "metadata": {},
   "outputs": [
    {
     "name": "stdout",
     "output_type": "stream",
     "text": [
      "[3.141602634467618, 3.141605839416058, 3.1416136591898227, 3.141581632653061, 3.141598489616111, 3.141583054626533, 3.1416151910318004, 3.1415731196573025, 3.1415895356842345, 3.141605951083319]\n",
      "1.362791801876166e-05\n",
      "3.141596910742586\n"
     ]
    }
   ],
   "source": [
    "n = 0\n",
    "d = 0\n",
    "count = 10\n",
    "precision = 0.00001\n",
    "list = []\n",
    "simulating = True\n",
    "while simulating:\n",
    "    x = random.random()\n",
    "    y = random.random()\n",
    "    if x**2 + y**2 <= 1:\n",
    "        n += 1\n",
    "    d += 1\n",
    "    ratio = 4 * n / d\n",
    "    if abs(ratio-pi)/pi <= precision:       \n",
    "        count -= 1\n",
    "        list.append(ratio)        \n",
    "    if count == 0:\n",
    "        print(list)\n",
    "        mean = np.mean(list)\n",
    "        sd = np.std(list)\n",
    "        print(sd)\n",
    "        print(mean)\n",
    "        break"
   ]
  }
 ],
 "metadata": {
  "kernelspec": {
   "display_name": "Python 3",
   "language": "python",
   "name": "python3"
  },
  "language_info": {
   "codemirror_mode": {
    "name": "ipython",
    "version": 3
   },
   "file_extension": ".py",
   "mimetype": "text/x-python",
   "name": "python",
   "nbconvert_exporter": "python",
   "pygments_lexer": "ipython3",
   "version": "3.7.4"
  }
 },
 "nbformat": 4,
 "nbformat_minor": 2
}
