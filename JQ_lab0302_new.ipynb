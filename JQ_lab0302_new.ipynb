{
 "cells": [
  {
   "cell_type": "code",
   "execution_count": 1,
   "metadata": {},
   "outputs": [],
   "source": [
    "# lab0302\n",
    "import random\n",
    "import numpy as np\n",
    "import math\n",
    "import matplotlib.pyplot as plt"
   ]
  },
  {
   "cell_type": "code",
   "execution_count": 2,
   "metadata": {},
   "outputs": [],
   "source": [
    "pi = math.pi"
   ]
  },
  {
   "cell_type": "code",
   "execution_count": null,
   "metadata": {},
   "outputs": [],
   "source": [
    "# 1\n",
    "n = 0 \n",
    "d = 0\n",
    "count = 0\n",
    "sentinel = int(input(\"numbers of rooping\"))\n",
    "precision = float(input(\"The convergence criterion\"))\n",
    "simulating = True\n",
    "while simulating:\n",
    "    x = random.random()\n",
    "    y = random.random()\n",
    "    if x**2 + y**2 <= 1:\n",
    "        n += 1\n",
    "    d += 1\n",
    "    ratio = 4 * n / d\n",
    "    if abs(ratio-pi)/pi <= precision:\n",
    "        print(ratio)\n",
    "        break\n",
    "    if count > sentinel:\n",
    "        print(\"draw limit was exceeded\")\n",
    "        print(ratio)\n",
    "        simulating = False"
   ]
  },
  {
   "cell_type": "code",
   "execution_count": 4,
   "metadata": {},
   "outputs": [
    {
     "name": "stdout",
     "output_type": "stream",
     "text": [
      "When convergence criteria is 0.01,sd of Pi is 0.018465853470881404 and mean is 3.135075797932374\n",
      "When convergence criteria is 0.001,sd of Pi is 0.0020704502433494584 and mean is 3.1415380238225947\n",
      "When convergence criteria is 0.0001,sd of Pi is 0.00014953401933829978 and mean is 3.141409892862688\n",
      "When convergence criteria is 0.00001,sd of Pi is 1.6089803606517906e-05 and mean is 3.1415928960969373\n"
     ]
    }
   ],
   "source": [
    "# 2\n",
    "n = 0 \n",
    "d = 0\n",
    "sentinel = 0\n",
    "count1 = 10 # numbers of runs\n",
    "count2 = 10\n",
    "count3 = 10\n",
    "count4 = 10\n",
    "list2 = []\n",
    "list1 = []\n",
    "list3 = []\n",
    "list4 = []\n",
    "simulating = True\n",
    "while simulating:\n",
    "    x = random.random()\n",
    "    y = random.random()\n",
    "    if x**2 + y**2 <= 1:\n",
    "        n += 1\n",
    "    d += 1\n",
    "    ratio = 4 * n / d\n",
    "    if abs(ratio-pi)/pi <= 0.01:       \n",
    "        count1 -= 1\n",
    "        list1.append(ratio)        \n",
    "        if count1 == 0:\n",
    "            #print(list)\n",
    "            mean = np.mean(list1)\n",
    "            sd = np.std(list1)\n",
    "            print(\"When convergence criteria is 0.01,sd of Pi is \" + str(sd) + \" and mean is \" + str(mean))\n",
    "            sentinel += 1\n",
    "    if abs(ratio-pi)/pi <= 0.001:       \n",
    "        count2 -= 1\n",
    "        list2.append(ratio)        \n",
    "        if count2 == 0:\n",
    "            #print(list)\n",
    "            mean = np.mean(list2)\n",
    "            sd = np.std(list2)\n",
    "            print(\"When convergence criteria is 0.001,sd of Pi is \" + str(sd) + \" and mean is \" + str(mean))\n",
    "            sentinel += 1\n",
    "    if abs(ratio-pi)/pi <= 0.0001:       \n",
    "        count3 -= 1\n",
    "        list3.append(ratio)        \n",
    "        if count3 == 0:\n",
    "            #print(list)\n",
    "            mean = np.mean(list3)\n",
    "            sd = np.std(list3)\n",
    "            print(\"When convergence criteria is 0.0001,sd of Pi is \" + str(sd) + \" and mean is \" + str(mean))\n",
    "            sentinel += 1\n",
    "    if abs(ratio-pi)/pi <= 0.00001:       \n",
    "        count4 -= 1\n",
    "        list4.append(ratio)        \n",
    "        if count4 == 0:\n",
    "            #print(list)\n",
    "            mean = np.mean(list4)\n",
    "            sd = np.std(list4)\n",
    "            print(\"When convergence criteria is 0.00001,sd of Pi is \" + str(sd) + \" and mean is \" + str(mean))\n",
    "            sentinel += 1\n",
    "    if sentinel == 4:\n",
    "        simulating = False\n",
    "            \n"
   ]
  },
  {
   "cell_type": "code",
   "execution_count": 9,
   "metadata": {},
   "outputs": [
    {
     "name": "stdout",
     "output_type": "stream",
     "text": [
      "[3.1392405063291138, 3.142857142857143, 3.142857142857143, 3.139784946236559, 3.144385026737968, 3.141361256544503, 3.1384615384615384, 3.140740740740741, 3.143911439114391, 3.139784946236559]\n",
      "0.001959011761521218\n",
      "3.1413384686115657\n"
     ]
    }
   ],
   "source": [
    "n = 0\n",
    "d = 0\n",
    "count = 10\n",
    "precision = 0.001\n",
    "list = []\n",
    "simulating = True\n",
    "while simulating:\n",
    "    x = random.random()\n",
    "    y = random.random()\n",
    "    if x**2 + y**2 <= 1:\n",
    "        n += 1\n",
    "    d += 1\n",
    "    ratio = 4 * n / d\n",
    "    if abs(ratio-pi)/pi <= 0.001:       \n",
    "        count -= 1\n",
    "        list.append(ratio)        \n",
    "    if count == 0:\n",
    "        print(list)\n",
    "        mean = np.mean(list)\n",
    "        \n",
    "        sd = np.std(list)\n",
    "        print(sd)\n",
    "        print(mean)\n",
    "        break"
   ]
  },
  {
   "cell_type": "code",
   "execution_count": 50,
   "metadata": {},
   "outputs": [
    {
     "name": "stdout",
     "output_type": "stream",
     "text": [
      "[3.1417624521072796, 3.1418181818181816, 3.141868512110727, 3.1414634146341465, 3.1417910447761193, 3.1417004048582995, 3.141302439880639, 3.1414531414531415, 3.1416037901386207, 3.141754385964912]\n",
      "0.0001784595349173497\n",
      "3.1416517767742067\n"
     ]
    }
   ],
   "source": [
    "n = 0\n",
    "d = 0\n",
    "count = 10\n",
    "precision = 0.0001\n",
    "list = []\n",
    "simulating = True\n",
    "while simulating:\n",
    "    x = random.random()\n",
    "    y = random.random()\n",
    "    if x**2 + y**2 <= 1:\n",
    "        n += 1\n",
    "    d += 1\n",
    "    ratio = 4 * n / d\n",
    "    if abs(ratio-pi)/pi <= precision:       \n",
    "        count -= 1\n",
    "        list.append(ratio)        \n",
    "    if count == 0:\n",
    "        print(list)\n",
    "        mean = np.mean(list)\n",
    "        sd = np.std(list)\n",
    "        print(sd)\n",
    "        print(mean)\n",
    "        break"
   ]
  },
  {
   "cell_type": "code",
   "execution_count": 51,
   "metadata": {},
   "outputs": [
    {
     "name": "stdout",
     "output_type": "stream",
     "text": [
      "[3.141602634467618, 3.141605839416058, 3.1416136591898227, 3.141581632653061, 3.141598489616111, 3.141583054626533, 3.1416151910318004, 3.1415731196573025, 3.1415895356842345, 3.141605951083319]\n",
      "1.362791801876166e-05\n",
      "3.141596910742586\n"
     ]
    }
   ],
   "source": [
    "n = 0\n",
    "d = 0\n",
    "count = 10\n",
    "precision = 0.00001\n",
    "list = []\n",
    "simulating = True\n",
    "while simulating:\n",
    "    x = random.random()\n",
    "    y = random.random()\n",
    "    if x**2 + y**2 <= 1:\n",
    "        n += 1\n",
    "    d += 1\n",
    "    ratio = 4 * n / d\n",
    "    if abs(ratio-pi)/pi <= precision:       \n",
    "        count -= 1\n",
    "        list.append(ratio)        \n",
    "    if count == 0:\n",
    "        print(list)\n",
    "        mean = np.mean(list)\n",
    "        sd = np.std(list)\n",
    "        print(sd)\n",
    "        print(mean)\n",
    "        break"
   ]
  }
 ],
 "metadata": {
  "kernelspec": {
   "display_name": "Python 3",
   "language": "python",
   "name": "python3"
  },
  "language_info": {
   "codemirror_mode": {
    "name": "ipython",
    "version": 3
   },
   "file_extension": ".py",
   "mimetype": "text/x-python",
   "name": "python",
   "nbconvert_exporter": "python",
   "pygments_lexer": "ipython3",
   "version": "3.7.4"
  }
 },
 "nbformat": 4,
 "nbformat_minor": 2
}
